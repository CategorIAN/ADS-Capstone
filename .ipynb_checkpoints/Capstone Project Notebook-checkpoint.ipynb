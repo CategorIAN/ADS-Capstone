{
 "cells": [
  {
   "cell_type": "markdown",
   "metadata": {},
   "source": [
    "This notebook will be mainly used for the capstone project."
   ]
  },
  {
   "cell_type": "code",
   "execution_count": 1,
   "metadata": {
    "tags": []
   },
   "outputs": [],
   "source": [
    "import pandas as pd\n",
    "import numpy as np\n",
    "from sklearn.cluster import KMeans\n",
    "import folium # map rendering library\n",
    "import requests # library to handle requests\n",
    "import random # library for random number generation\n",
    "from IPython.display import Image \n",
    "from IPython.core.display import HTML \n",
    "from pandas import json_normalize"
   ]
  },
  {
   "cell_type": "code",
   "execution_count": 2,
   "metadata": {},
   "outputs": [
    {
     "name": "stdout",
     "output_type": "stream",
     "text": [
      "Your credentails:\n",
      "CLIENT_ID: CPKUF5JGHYZMWBIX1BMCK3QM30NIHWJ2IDCQHN1CRBX4UW2G\n",
      "CLIENT_SECRET:A5M21YUKPT00LNTFW42W0SNORNWXQEBGCH0EK31SRGEEIALF\n"
     ]
    }
   ],
   "source": [
    "CLIENT_ID = 'CPKUF5JGHYZMWBIX1BMCK3QM30NIHWJ2IDCQHN1CRBX4UW2G' # your Foursquare ID\n",
    "CLIENT_SECRET = 'A5M21YUKPT00LNTFW42W0SNORNWXQEBGCH0EK31SRGEEIALF' # your Foursquare Secret\n",
    "ACCESS_TOKEN = '1S4LQ2H4DTD411ZHPV3QWDMNPGKNPX2OWH4AL1QZJZHCYSSF' # your FourSquare Access Token\n",
    "VERSION = '20180604'\n",
    "LIMIT = 50\n",
    "print('Your credentails:')\n",
    "print('CLIENT_ID: ' + CLIENT_ID)\n",
    "print('CLIENT_SECRET:' + CLIENT_SECRET)"
   ]
  },
  {
   "cell_type": "code",
   "execution_count": null,
   "metadata": {
    "jupyter": {
     "source_hidden": true
    },
    "tags": []
   },
   "outputs": [],
   "source": [
    "def folium_map():\n",
    "\n",
    "    latitude, longitude = (45.676998, -111.042931)\n",
    "\n",
    "    venues_map = folium.Map(location=[latitude, longitude], zoom_start=13) # generate map centred around the Conrad Hotel\n",
    "\n",
    "\n",
    "    # add the Italian restaurants as blue circle markers\n",
    "    for lat, lng, label in zip(dataframe_filtered.lat, dataframe_filtered.lng, dataframe_filtered.categories):\n",
    "        folium.CircleMarker(\n",
    "            [lat, lng],\n",
    "            radius=5,\n",
    "            color='blue',\n",
    "            popup=label,\n",
    "            fill = True,\n",
    "            fill_color='blue',\n",
    "            fill_opacity=0.6\n",
    "        ).add_to(venues_map)\n",
    "\n",
    "    # display map\n",
    "    venues_map"
   ]
  },
  {
   "cell_type": "code",
   "execution_count": 3,
   "metadata": {
    "tags": []
   },
   "outputs": [],
   "source": [
    "def venues(categories, city, ratings = False):\n",
    "    cat_dict = {\"Country Dance Club\": \"52e81612bcbc57f1066b79ef\", \"Dance Studio\":\"4bf58dd8d48988d134941735\", \"Salsa Club\": \"52e81612bcbc57f1066b79ec\", \n",
    "              \"Gym\":\"4bf58dd8d48988d176941735\", \"Pilates Studio\":\"5744ccdfe4b0c0459246b4b2\", \"Yoga Studio\": \"4bf58dd8d48988d102941735\", \n",
    "             \"Skating Rink\":\"4bf58dd8d48988d168941735\", \"Lake\": \"4bf58dd8d48988d161941735\", \"Concert Hall\": \"5032792091d4c4b30a586d5c\" }\n",
    "    ids = \",\".join([cat_dict[x] for x in categories])\n",
    "    url = 'https://api.foursquare.com/v2/venues/search?client_id={}&client_secret={}&near={}&oauth_token={}&v={}&limit={}&categoryId={}'.format(CLIENT_ID, CLIENT_SECRET, city, ACCESS_TOKEN, VERSION, LIMIT, ids)\n",
    "    results = requests.get(url).json()\n",
    "    venues = results['response']['venues']\n",
    "    df = pd.json_normalize(venues)\n",
    "    \n",
    "    def clean_df(df):\n",
    "        filtered_columns = ['name', 'categories'] + [col for col in df.columns if col.startswith('location.')] + ['id']\n",
    "        new_df = df.loc[:, filtered_columns]\n",
    "\n",
    "        def get_category_type(row):\n",
    "            try:\n",
    "                categories_list = row['categories']\n",
    "            except:\n",
    "                categories_list = row['venue.categories']\n",
    "\n",
    "            if len(categories_list) == 0:\n",
    "                return None\n",
    "            else:\n",
    "                return categories_list[0]['name']\n",
    "\n",
    "        new_df['categories'] = new_df.apply(get_category_type, axis=1)\n",
    "        new_df.columns = [column.split('.')[-1] for column in new_df.columns]\n",
    "        new_df = new_df[new_df['categories'].isin(categories)]\n",
    "        return new_df\n",
    "    \n",
    "    df = clean_df(df)\n",
    "    if ratings:\n",
    "        def rating(venue_id):\n",
    "            url = 'https://api.foursquare.com/v2/venues/{}?client_id={}&client_secret={}&oauth_token={}&v={}'.format(venue_id, CLIENT_ID, CLIENT_SECRET,ACCESS_TOKEN, VERSION)\n",
    "            result = requests.get(url).json()\n",
    "            try:\n",
    "                rating = result['response']['venue']['rating']\n",
    "                return rating\n",
    "            except:\n",
    "                return None\n",
    "\n",
    "        ratings = list(map(rating, df['id'].to_list()))\n",
    "        df.insert(df.shape[1], \"rating\", ratings, allow_duplicates=True)\n",
    "        \n",
    "    return df"
   ]
  },
  {
   "cell_type": "code",
   "execution_count": 46,
   "metadata": {
    "tags": []
   },
   "outputs": [],
   "source": [
    "country_dance_club = \"52e81612bcbc57f1066b79ef\"\n",
    "dance_studio = \"4bf58dd8d48988d134941735\"\n",
    "salsa_club = \"52e81612bcbc57f1066b79ec\"\n",
    "gym = \"4bf58dd8d48988d176941735\"\n",
    "pilates = \"5744ccdfe4b0c0459246b4b2\"\n",
    "yoga = \"4bf58dd8d48988d102941735\"\n",
    "concert_hall = \"5032792091d4c4b30a586d5c\"\n",
    "skating_rink = \"4bf58dd8d48988d168941735\"\n",
    "lake = \"4bf58dd8d48988d161941735\"\n",
    "\n",
    "#categories = \",\".join([gym, country_dance_club, dance_studio, salsa_club, pilates, yoga, concert_hall, skating_rink, lake])\n",
    "cities = [\"Billings, MT\", \"Missoula, MT\", \"Bozeman, MT\", \"Boise, ID\", \"Meridian, ID\", \"Coeur d'Alene, ID\", \"Fargo, ND\", \"Sioux Falls, SD\", \"Rapid City, SD\", \"Lincoln, NE\", \"Omaha, NE\", \"Bellevue, NE\"]\n",
    "categories = [\"Gym\", \"Yoga Studio\", \"Pilates Studio\", \"Country Dance Club\", \"Dance Studio\", \"Salsa Club\", \"Skating Rink\", \"Lake\", \"Concert Hall\"]"
   ]
  },
  {
   "cell_type": "code",
   "execution_count": 33,
   "metadata": {},
   "outputs": [],
   "source": [
    "\n",
    "for city in cities:\n",
    "    df = venues(categories, city, ratings = True)\n",
    "    df.to_csv(\"{}.csv\".format(city))"
   ]
  },
  {
   "cell_type": "code",
   "execution_count": null,
   "metadata": {},
   "outputs": [],
   "source": []
  },
  {
   "cell_type": "code",
   "execution_count": 14,
   "metadata": {},
   "outputs": [
    {
     "data": {
      "text/html": [
       "<div>\n",
       "<style scoped>\n",
       "    .dataframe tbody tr th:only-of-type {\n",
       "        vertical-align: middle;\n",
       "    }\n",
       "\n",
       "    .dataframe tbody tr th {\n",
       "        vertical-align: top;\n",
       "    }\n",
       "\n",
       "    .dataframe thead th {\n",
       "        text-align: right;\n",
       "    }\n",
       "</style>\n",
       "<table border=\"1\" class=\"dataframe\">\n",
       "  <thead>\n",
       "    <tr style=\"text-align: right;\">\n",
       "      <th></th>\n",
       "      <th>Bozeman, MT</th>\n",
       "    </tr>\n",
       "  </thead>\n",
       "  <tbody>\n",
       "    <tr>\n",
       "      <th>Concert Hall</th>\n",
       "      <td>0.028571</td>\n",
       "    </tr>\n",
       "    <tr>\n",
       "      <th>Dance Studio</th>\n",
       "      <td>0.085714</td>\n",
       "    </tr>\n",
       "    <tr>\n",
       "      <th>Gym</th>\n",
       "      <td>0.371429</td>\n",
       "    </tr>\n",
       "    <tr>\n",
       "      <th>Lake</th>\n",
       "      <td>0.200000</td>\n",
       "    </tr>\n",
       "    <tr>\n",
       "      <th>Pilates Studio</th>\n",
       "      <td>0.028571</td>\n",
       "    </tr>\n",
       "    <tr>\n",
       "      <th>Skating Rink</th>\n",
       "      <td>0.057143</td>\n",
       "    </tr>\n",
       "    <tr>\n",
       "      <th>Yoga Studio</th>\n",
       "      <td>0.228571</td>\n",
       "    </tr>\n",
       "  </tbody>\n",
       "</table>\n",
       "</div>"
      ],
      "text/plain": [
       "                Bozeman, MT\n",
       "Concert Hall       0.028571\n",
       "Dance Studio       0.085714\n",
       "Gym                0.371429\n",
       "Lake               0.200000\n",
       "Pilates Studio     0.028571\n",
       "Skating Rink       0.057143\n",
       "Yoga Studio        0.228571"
      ]
     },
     "execution_count": 14,
     "metadata": {},
     "output_type": "execute_result"
    }
   ],
   "source": [
    "bzm = pd.read_csv(\"Bozeman, MT.csv\")\n",
    "del bzm['Unnamed: 0']\n",
    "bzm_count = bzm.groupby('categories').count()['name'].to_dict()\n",
    "bzm_perc = dict([(x, bzm_count[x] / bzm.shape[0]) for x in bzm_count.keys()])\n",
    "data = {}\n",
    "data['Bozeman, MT'] = bzm_perc\n",
    "df = pd.DataFrame(data)\n",
    "df"
   ]
  },
  {
   "cell_type": "code",
   "execution_count": 44,
   "metadata": {},
   "outputs": [],
   "source": [
    "def perc(dic, key, denom):\n",
    "    value = dic.get(key)\n",
    "    if value is None:\n",
    "        return 0\n",
    "    else:\n",
    "        return value / denom"
   ]
  },
  {
   "cell_type": "code",
   "execution_count": 47,
   "metadata": {},
   "outputs": [
    {
     "name": "stdout",
     "output_type": "stream",
     "text": [
      "{'Gym': 0.6857142857142857, 'Yoga Studio': 0.08571428571428572, 'Pilates Studio': 0.02857142857142857, 'Country Dance Club': 0, 'Dance Studio': 0.08571428571428572, 'Salsa Club': 0, 'Skating Rink': 0.02857142857142857, 'Lake': 0.02857142857142857, 'Concert Hall': 0.05714285714285714}\n",
      "{'Gym': 0.4878048780487805, 'Yoga Studio': 0.14634146341463414, 'Pilates Studio': 0.024390243902439025, 'Country Dance Club': 0, 'Dance Studio': 0.17073170731707318, 'Salsa Club': 0.024390243902439025, 'Skating Rink': 0.024390243902439025, 'Lake': 0.0975609756097561, 'Concert Hall': 0.024390243902439025}\n",
      "{'Gym': 0.37142857142857144, 'Yoga Studio': 0.22857142857142856, 'Pilates Studio': 0.02857142857142857, 'Country Dance Club': 0, 'Dance Studio': 0.08571428571428572, 'Salsa Club': 0, 'Skating Rink': 0.05714285714285714, 'Lake': 0.2, 'Concert Hall': 0.02857142857142857}\n",
      "{'Gym': 0.4878048780487805, 'Yoga Studio': 0.07317073170731707, 'Pilates Studio': 0, 'Country Dance Club': 0, 'Dance Studio': 0.17073170731707318, 'Salsa Club': 0, 'Skating Rink': 0, 'Lake': 0.21951219512195122, 'Concert Hall': 0.04878048780487805}\n",
      "{'Gym': 0.4878048780487805, 'Yoga Studio': 0.07317073170731707, 'Pilates Studio': 0, 'Country Dance Club': 0, 'Dance Studio': 0.17073170731707318, 'Salsa Club': 0, 'Skating Rink': 0, 'Lake': 0.21951219512195122, 'Concert Hall': 0.04878048780487805}\n",
      "{'Gym': 0.225, 'Yoga Studio': 0.025, 'Pilates Studio': 0, 'Country Dance Club': 0, 'Dance Studio': 0.075, 'Salsa Club': 0, 'Skating Rink': 0, 'Lake': 0.65, 'Concert Hall': 0.025}\n",
      "{'Gym': 0.5, 'Yoga Studio': 0.06521739130434782, 'Pilates Studio': 0, 'Country Dance Club': 0, 'Dance Studio': 0.08695652173913043, 'Salsa Club': 0, 'Skating Rink': 0.17391304347826086, 'Lake': 0.08695652173913043, 'Concert Hall': 0.08695652173913043}\n",
      "{'Gym': 0.65, 'Yoga Studio': 0.1, 'Pilates Studio': 0, 'Country Dance Club': 0, 'Dance Studio': 0, 'Salsa Club': 0.025, 'Skating Rink': 0.025, 'Lake': 0.15, 'Concert Hall': 0.05}\n",
      "{'Gym': 0.4594594594594595, 'Yoga Studio': 0.02702702702702703, 'Pilates Studio': 0, 'Country Dance Club': 0, 'Dance Studio': 0.1891891891891892, 'Salsa Club': 0, 'Skating Rink': 0.08108108108108109, 'Lake': 0.21621621621621623, 'Concert Hall': 0.02702702702702703}\n",
      "{'Gym': 0.4, 'Yoga Studio': 0.05714285714285714, 'Pilates Studio': 0, 'Country Dance Club': 0, 'Dance Studio': 0.14285714285714285, 'Salsa Club': 0, 'Skating Rink': 0.02857142857142857, 'Lake': 0.3142857142857143, 'Concert Hall': 0.05714285714285714}\n",
      "{'Gym': 0.42424242424242425, 'Yoga Studio': 0.030303030303030304, 'Pilates Studio': 0, 'Country Dance Club': 0, 'Dance Studio': 0.030303030303030304, 'Salsa Club': 0, 'Skating Rink': 0.06060606060606061, 'Lake': 0.42424242424242425, 'Concert Hall': 0.030303030303030304}\n",
      "{'Gym': 0.4375, 'Yoga Studio': 0.03125, 'Pilates Studio': 0, 'Country Dance Club': 0, 'Dance Studio': 0.03125, 'Salsa Club': 0, 'Skating Rink': 0.0625, 'Lake': 0.40625, 'Concert Hall': 0.03125}\n"
     ]
    },
    {
     "data": {
      "text/html": [
       "<div>\n",
       "<style scoped>\n",
       "    .dataframe tbody tr th:only-of-type {\n",
       "        vertical-align: middle;\n",
       "    }\n",
       "\n",
       "    .dataframe tbody tr th {\n",
       "        vertical-align: top;\n",
       "    }\n",
       "\n",
       "    .dataframe thead th {\n",
       "        text-align: right;\n",
       "    }\n",
       "</style>\n",
       "<table border=\"1\" class=\"dataframe\">\n",
       "  <thead>\n",
       "    <tr style=\"text-align: right;\">\n",
       "      <th></th>\n",
       "      <th>Billings, MT</th>\n",
       "      <th>Missoula, MT</th>\n",
       "      <th>Bozeman, MT</th>\n",
       "      <th>Boise, ID</th>\n",
       "      <th>Meridian, ID</th>\n",
       "      <th>Coeur d'Alene, ID</th>\n",
       "      <th>Fargo, ND</th>\n",
       "      <th>Sioux Falls, SD</th>\n",
       "      <th>Rapid City, SD</th>\n",
       "      <th>Lincoln, NE</th>\n",
       "      <th>Omaha, NE</th>\n",
       "      <th>Bellevue, NE</th>\n",
       "    </tr>\n",
       "  </thead>\n",
       "  <tbody>\n",
       "    <tr>\n",
       "      <th>Gym</th>\n",
       "      <td>0.685714</td>\n",
       "      <td>0.487805</td>\n",
       "      <td>0.371429</td>\n",
       "      <td>0.487805</td>\n",
       "      <td>0.487805</td>\n",
       "      <td>0.225</td>\n",
       "      <td>0.500000</td>\n",
       "      <td>0.650</td>\n",
       "      <td>0.459459</td>\n",
       "      <td>0.400000</td>\n",
       "      <td>0.424242</td>\n",
       "      <td>0.43750</td>\n",
       "    </tr>\n",
       "    <tr>\n",
       "      <th>Yoga Studio</th>\n",
       "      <td>0.085714</td>\n",
       "      <td>0.146341</td>\n",
       "      <td>0.228571</td>\n",
       "      <td>0.073171</td>\n",
       "      <td>0.073171</td>\n",
       "      <td>0.025</td>\n",
       "      <td>0.065217</td>\n",
       "      <td>0.100</td>\n",
       "      <td>0.027027</td>\n",
       "      <td>0.057143</td>\n",
       "      <td>0.030303</td>\n",
       "      <td>0.03125</td>\n",
       "    </tr>\n",
       "    <tr>\n",
       "      <th>Pilates Studio</th>\n",
       "      <td>0.028571</td>\n",
       "      <td>0.024390</td>\n",
       "      <td>0.028571</td>\n",
       "      <td>0.000000</td>\n",
       "      <td>0.000000</td>\n",
       "      <td>0.000</td>\n",
       "      <td>0.000000</td>\n",
       "      <td>0.000</td>\n",
       "      <td>0.000000</td>\n",
       "      <td>0.000000</td>\n",
       "      <td>0.000000</td>\n",
       "      <td>0.00000</td>\n",
       "    </tr>\n",
       "    <tr>\n",
       "      <th>Country Dance Club</th>\n",
       "      <td>0.000000</td>\n",
       "      <td>0.000000</td>\n",
       "      <td>0.000000</td>\n",
       "      <td>0.000000</td>\n",
       "      <td>0.000000</td>\n",
       "      <td>0.000</td>\n",
       "      <td>0.000000</td>\n",
       "      <td>0.000</td>\n",
       "      <td>0.000000</td>\n",
       "      <td>0.000000</td>\n",
       "      <td>0.000000</td>\n",
       "      <td>0.00000</td>\n",
       "    </tr>\n",
       "    <tr>\n",
       "      <th>Dance Studio</th>\n",
       "      <td>0.085714</td>\n",
       "      <td>0.170732</td>\n",
       "      <td>0.085714</td>\n",
       "      <td>0.170732</td>\n",
       "      <td>0.170732</td>\n",
       "      <td>0.075</td>\n",
       "      <td>0.086957</td>\n",
       "      <td>0.000</td>\n",
       "      <td>0.189189</td>\n",
       "      <td>0.142857</td>\n",
       "      <td>0.030303</td>\n",
       "      <td>0.03125</td>\n",
       "    </tr>\n",
       "    <tr>\n",
       "      <th>Salsa Club</th>\n",
       "      <td>0.000000</td>\n",
       "      <td>0.024390</td>\n",
       "      <td>0.000000</td>\n",
       "      <td>0.000000</td>\n",
       "      <td>0.000000</td>\n",
       "      <td>0.000</td>\n",
       "      <td>0.000000</td>\n",
       "      <td>0.025</td>\n",
       "      <td>0.000000</td>\n",
       "      <td>0.000000</td>\n",
       "      <td>0.000000</td>\n",
       "      <td>0.00000</td>\n",
       "    </tr>\n",
       "    <tr>\n",
       "      <th>Skating Rink</th>\n",
       "      <td>0.028571</td>\n",
       "      <td>0.024390</td>\n",
       "      <td>0.057143</td>\n",
       "      <td>0.000000</td>\n",
       "      <td>0.000000</td>\n",
       "      <td>0.000</td>\n",
       "      <td>0.173913</td>\n",
       "      <td>0.025</td>\n",
       "      <td>0.081081</td>\n",
       "      <td>0.028571</td>\n",
       "      <td>0.060606</td>\n",
       "      <td>0.06250</td>\n",
       "    </tr>\n",
       "    <tr>\n",
       "      <th>Lake</th>\n",
       "      <td>0.028571</td>\n",
       "      <td>0.097561</td>\n",
       "      <td>0.200000</td>\n",
       "      <td>0.219512</td>\n",
       "      <td>0.219512</td>\n",
       "      <td>0.650</td>\n",
       "      <td>0.086957</td>\n",
       "      <td>0.150</td>\n",
       "      <td>0.216216</td>\n",
       "      <td>0.314286</td>\n",
       "      <td>0.424242</td>\n",
       "      <td>0.40625</td>\n",
       "    </tr>\n",
       "    <tr>\n",
       "      <th>Concert Hall</th>\n",
       "      <td>0.057143</td>\n",
       "      <td>0.024390</td>\n",
       "      <td>0.028571</td>\n",
       "      <td>0.048780</td>\n",
       "      <td>0.048780</td>\n",
       "      <td>0.025</td>\n",
       "      <td>0.086957</td>\n",
       "      <td>0.050</td>\n",
       "      <td>0.027027</td>\n",
       "      <td>0.057143</td>\n",
       "      <td>0.030303</td>\n",
       "      <td>0.03125</td>\n",
       "    </tr>\n",
       "  </tbody>\n",
       "</table>\n",
       "</div>"
      ],
      "text/plain": [
       "                    Billings, MT  Missoula, MT  Bozeman, MT  Boise, ID  \\\n",
       "Gym                     0.685714      0.487805     0.371429   0.487805   \n",
       "Yoga Studio             0.085714      0.146341     0.228571   0.073171   \n",
       "Pilates Studio          0.028571      0.024390     0.028571   0.000000   \n",
       "Country Dance Club      0.000000      0.000000     0.000000   0.000000   \n",
       "Dance Studio            0.085714      0.170732     0.085714   0.170732   \n",
       "Salsa Club              0.000000      0.024390     0.000000   0.000000   \n",
       "Skating Rink            0.028571      0.024390     0.057143   0.000000   \n",
       "Lake                    0.028571      0.097561     0.200000   0.219512   \n",
       "Concert Hall            0.057143      0.024390     0.028571   0.048780   \n",
       "\n",
       "                    Meridian, ID  Coeur d'Alene, ID  Fargo, ND  \\\n",
       "Gym                     0.487805              0.225   0.500000   \n",
       "Yoga Studio             0.073171              0.025   0.065217   \n",
       "Pilates Studio          0.000000              0.000   0.000000   \n",
       "Country Dance Club      0.000000              0.000   0.000000   \n",
       "Dance Studio            0.170732              0.075   0.086957   \n",
       "Salsa Club              0.000000              0.000   0.000000   \n",
       "Skating Rink            0.000000              0.000   0.173913   \n",
       "Lake                    0.219512              0.650   0.086957   \n",
       "Concert Hall            0.048780              0.025   0.086957   \n",
       "\n",
       "                    Sioux Falls, SD  Rapid City, SD  Lincoln, NE  Omaha, NE  \\\n",
       "Gym                           0.650        0.459459     0.400000   0.424242   \n",
       "Yoga Studio                   0.100        0.027027     0.057143   0.030303   \n",
       "Pilates Studio                0.000        0.000000     0.000000   0.000000   \n",
       "Country Dance Club            0.000        0.000000     0.000000   0.000000   \n",
       "Dance Studio                  0.000        0.189189     0.142857   0.030303   \n",
       "Salsa Club                    0.025        0.000000     0.000000   0.000000   \n",
       "Skating Rink                  0.025        0.081081     0.028571   0.060606   \n",
       "Lake                          0.150        0.216216     0.314286   0.424242   \n",
       "Concert Hall                  0.050        0.027027     0.057143   0.030303   \n",
       "\n",
       "                    Bellevue, NE  \n",
       "Gym                      0.43750  \n",
       "Yoga Studio              0.03125  \n",
       "Pilates Studio           0.00000  \n",
       "Country Dance Club       0.00000  \n",
       "Dance Studio             0.03125  \n",
       "Salsa Club               0.00000  \n",
       "Skating Rink             0.06250  \n",
       "Lake                     0.40625  \n",
       "Concert Hall             0.03125  "
      ]
     },
     "execution_count": 47,
     "metadata": {},
     "output_type": "execute_result"
    }
   ],
   "source": [
    "data = {}\n",
    "for category in categories:\n",
    "for city in cities:\n",
    "    city_df = pd.read_csv(\"{}.csv\".format(city))\n",
    "    del city_df['Unnamed: 0']\n",
    "    venue_count = city_df.groupby('categories').count()['name'].to_dict()\n",
    "    venue_perc = []    \n",
    "        venue_perc.append((category, perc(venue_count, category, city_df.shape[0])))\n",
    "    data[city] = venue_perc\n",
    "df = pd.DataFrame(data)\n",
    "df"
   ]
  },
  {
   "cell_type": "code",
   "execution_count": 48,
   "metadata": {},
   "outputs": [],
   "source": [
    "k_means = KMeans(init=\"k-means++\", n_clusters=4, n_init=12)"
   ]
  },
  {
   "cell_type": "code",
   "execution_count": 50,
   "metadata": {},
   "outputs": [
    {
     "data": {
      "text/plain": [
       "KMeans(algorithm='auto', copy_x=True, init='k-means++', max_iter=300,\n",
       "    n_clusters=4, n_init=12, n_jobs=None, precompute_distances='auto',\n",
       "    random_state=None, tol=0.0001, verbose=0)"
      ]
     },
     "execution_count": 50,
     "metadata": {},
     "output_type": "execute_result"
    }
   ],
   "source": [
    "k_means.fit(df)"
   ]
  },
  {
   "cell_type": "code",
   "execution_count": 51,
   "metadata": {},
   "outputs": [
    {
     "data": {
      "text/plain": [
       "array([1, 0, 3, 3, 0, 3, 3, 2, 3], dtype=int32)"
      ]
     },
     "execution_count": 51,
     "metadata": {},
     "output_type": "execute_result"
    }
   ],
   "source": [
    "k_means_labels = k_means.labels_\n",
    "k_means_labels"
   ]
  },
  {
   "cell_type": "code",
   "execution_count": 35,
   "metadata": {},
   "outputs": [],
   "source": [
    "d = {0: 0, 1: 1}"
   ]
  },
  {
   "cell_type": "code",
   "execution_count": 36,
   "metadata": {},
   "outputs": [
    {
     "data": {
      "text/plain": [
       "0"
      ]
     },
     "execution_count": 36,
     "metadata": {},
     "output_type": "execute_result"
    }
   ],
   "source": [
    "d[0]"
   ]
  },
  {
   "cell_type": "code",
   "execution_count": 37,
   "metadata": {},
   "outputs": [
    {
     "ename": "KeyError",
     "evalue": "2",
     "output_type": "error",
     "traceback": [
      "\u001b[0;31m---------------------------------------------------------------------------\u001b[0m",
      "\u001b[0;31mKeyError\u001b[0m                                  Traceback (most recent call last)",
      "\u001b[0;32m<ipython-input-37-b41cae771af5>\u001b[0m in \u001b[0;36m<module>\u001b[0;34m\u001b[0m\n\u001b[0;32m----> 1\u001b[0;31m \u001b[0md\u001b[0m\u001b[0;34m[\u001b[0m\u001b[0;36m2\u001b[0m\u001b[0;34m]\u001b[0m\u001b[0;34m\u001b[0m\u001b[0;34m\u001b[0m\u001b[0m\n\u001b[0m",
      "\u001b[0;31mKeyError\u001b[0m: 2"
     ]
    }
   ],
   "source": [
    "d[2]"
   ]
  },
  {
   "cell_type": "code",
   "execution_count": 38,
   "metadata": {},
   "outputs": [
    {
     "data": {
      "text/plain": [
       "0"
      ]
     },
     "execution_count": 38,
     "metadata": {},
     "output_type": "execute_result"
    }
   ],
   "source": [
    "d.get(0)"
   ]
  },
  {
   "cell_type": "code",
   "execution_count": 39,
   "metadata": {},
   "outputs": [
    {
     "data": {
      "text/plain": [
       "1"
      ]
     },
     "execution_count": 39,
     "metadata": {},
     "output_type": "execute_result"
    }
   ],
   "source": [
    "d.get(1)"
   ]
  },
  {
   "cell_type": "code",
   "execution_count": 41,
   "metadata": {},
   "outputs": [],
   "source": [
    "e = d.get(2)"
   ]
  },
  {
   "cell_type": "code",
   "execution_count": 42,
   "metadata": {},
   "outputs": [
    {
     "data": {
      "text/plain": [
       "True"
      ]
     },
     "execution_count": 42,
     "metadata": {},
     "output_type": "execute_result"
    }
   ],
   "source": [
    "e is None"
   ]
  },
  {
   "cell_type": "code",
   "execution_count": null,
   "metadata": {},
   "outputs": [],
   "source": []
  }
 ],
 "metadata": {
  "kernelspec": {
   "display_name": "Python",
   "language": "python",
   "name": "conda-env-python-py"
  },
  "language_info": {
   "codemirror_mode": {
    "name": "ipython",
    "version": 3
   },
   "file_extension": ".py",
   "mimetype": "text/x-python",
   "name": "python",
   "nbconvert_exporter": "python",
   "pygments_lexer": "ipython3",
   "version": "3.6.13"
  }
 },
 "nbformat": 4,
 "nbformat_minor": 4
}
